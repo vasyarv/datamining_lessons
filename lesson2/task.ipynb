{
 "cells": [
  {
   "cell_type": "markdown",
   "metadata": {},
   "source": [
    "### Задание\n",
    "    1. Загрузить данные\n",
    "    2. Скопировать loss и индексы\n",
    "    3. Объединить в data\n",
    "    4. Посмотреть распределение категориальных данных, выделить аномалии\n",
    "    5. Посмотреть гистограммы вещественных данных, выделить аномалии\n",
    "    6. Закодировать категориальные данные (factorize, get_dummies)\n",
    "    7. Сделать валидацию на 5 фолдов\n",
    "    8. Обучить классификатор\n",
    "    9. Получить cv, отправить решение\n",
    "    10. XGBoost"
   ]
  },
  {
   "cell_type": "code",
   "execution_count": 2,
   "metadata": {
    "collapsed": false
   },
   "outputs": [
    {
     "name": "stdout",
     "output_type": "stream",
     "text": [
      "Populating the interactive namespace from numpy and matplotlib\n"
     ]
    }
   ],
   "source": [
    "import pandas as pd\n",
    "import numpy as np\n",
    "\n",
    "%pylab inline"
   ]
  },
  {
   "cell_type": "code",
   "execution_count": 3,
   "metadata": {
    "collapsed": true
   },
   "outputs": [],
   "source": [
    "train = pd.read_csv('./data/train.csv', index_col='id')\n",
    "test = pd.read_csv('./data/test.csv', index_col='id')"
   ]
  },
  {
   "cell_type": "markdown",
   "metadata": {},
   "source": [
    "### Заменяем вещественные столбцы на get_dummies"
   ]
  },
  {
   "cell_type": "code",
   "execution_count": null,
   "metadata": {
    "collapsed": true
   },
   "outputs": [],
   "source": [
    "# сохраним для будущи обработок все категориальные значения в виде DataFrame\n",
    "cat_columns = data.select_dtypes(include=['object']).columns\n",
    "cont_columns = data.select_dtypes(exclude=['object']).columns\n",
    "data_cat = data.select_dtypes(include=['object'])"
   ]
  },
  {
   "cell_type": "code",
   "execution_count": null,
   "metadata": {
    "collapsed": true
   },
   "outputs": [],
   "source": [
    "unique_threshold = 15\n",
    "for column in cat_columns:\n",
    "    if len(data[column].unique()) > unique_threshold:\n",
    "        data = data.drop(column, 1)\n",
    "        continue\n",
    "    dummies = pd.get_dummies(data[column])\n",
    "    dummies.columns = [column + '_' + d_c for d_c in dummies.columns]\n",
    "    data[dummies.columns] = dummies\n",
    "    data = data.drop(column, 1)"
   ]
  }
 ],
 "metadata": {
  "kernelspec": {
   "display_name": "Python 2",
   "language": "python",
   "name": "python2"
  },
  "language_info": {
   "codemirror_mode": {
    "name": "ipython",
    "version": 2
   },
   "file_extension": ".py",
   "mimetype": "text/x-python",
   "name": "python",
   "nbconvert_exporter": "python",
   "pygments_lexer": "ipython2",
   "version": "2.7.12"
  }
 },
 "nbformat": 4,
 "nbformat_minor": 0
}
